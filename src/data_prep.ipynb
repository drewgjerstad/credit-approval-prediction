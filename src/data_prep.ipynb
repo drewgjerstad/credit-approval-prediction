{
 "cells": [
  {
   "cell_type": "markdown",
   "id": "ecde6ad0",
   "metadata": {},
   "source": [
    "# Data Preparation\n",
    "The purpose of this notebook is to **preprocess** and **explore** the credit\n",
    "approval dataset. At the beginning of each section, we will summarize the steps\n",
    "taken to preprocess the dataset and then explore it."
   ]
  },
  {
   "cell_type": "code",
   "execution_count": 1,
   "id": "5c52cb5e",
   "metadata": {},
   "outputs": [],
   "source": [
    "# Load Dependencies\n",
    "import numpy as np\n",
    "import pandas as pd\n",
    "import torch\n",
    "import sklearn\n",
    "import matplotlib.pyplot as plt"
   ]
  },
  {
   "cell_type": "code",
   "execution_count": 2,
   "id": "05707ef3",
   "metadata": {},
   "outputs": [
    {
     "data": {
      "application/vnd.microsoft.datawrangler.viewer.v0+json": {
       "columns": [
        {
         "name": "index",
         "rawType": "int64",
         "type": "integer"
        },
        {
         "name": "A1",
         "rawType": "object",
         "type": "string"
        },
        {
         "name": "A2",
         "rawType": "float64",
         "type": "float"
        },
        {
         "name": "A3",
         "rawType": "float64",
         "type": "float"
        },
        {
         "name": "A4",
         "rawType": "object",
         "type": "string"
        },
        {
         "name": "A5",
         "rawType": "object",
         "type": "string"
        },
        {
         "name": "A6",
         "rawType": "object",
         "type": "string"
        },
        {
         "name": "A7",
         "rawType": "object",
         "type": "string"
        },
        {
         "name": "A8",
         "rawType": "float64",
         "type": "float"
        },
        {
         "name": "A9",
         "rawType": "object",
         "type": "string"
        },
        {
         "name": "A10",
         "rawType": "object",
         "type": "string"
        },
        {
         "name": "A11",
         "rawType": "int64",
         "type": "integer"
        },
        {
         "name": "A12",
         "rawType": "object",
         "type": "string"
        },
        {
         "name": "A13",
         "rawType": "object",
         "type": "string"
        },
        {
         "name": "A14",
         "rawType": "float64",
         "type": "float"
        },
        {
         "name": "A15",
         "rawType": "int64",
         "type": "integer"
        },
        {
         "name": "A16",
         "rawType": "object",
         "type": "string"
        }
       ],
       "ref": "4ec77daf-9f8a-47f7-a661-3c537454de22",
       "rows": [
        [
         "0",
         "b",
         "30.83",
         "0.0",
         "u",
         "g",
         "w",
         "v",
         "1.25",
         "t",
         "t",
         "1",
         "f",
         "g",
         "202.0",
         "0",
         "+"
        ],
        [
         "1",
         "a",
         "58.67",
         "4.46",
         "u",
         "g",
         "q",
         "h",
         "3.04",
         "t",
         "t",
         "6",
         "f",
         "g",
         "43.0",
         "560",
         "+"
        ],
        [
         "2",
         "a",
         "24.5",
         "0.5",
         "u",
         "g",
         "q",
         "h",
         "1.5",
         "t",
         "f",
         "0",
         "f",
         "g",
         "280.0",
         "824",
         "+"
        ],
        [
         "3",
         "b",
         "27.83",
         "1.54",
         "u",
         "g",
         "w",
         "v",
         "3.75",
         "t",
         "t",
         "5",
         "t",
         "g",
         "100.0",
         "3",
         "+"
        ],
        [
         "4",
         "b",
         "20.17",
         "5.625",
         "u",
         "g",
         "w",
         "v",
         "1.71",
         "t",
         "f",
         "0",
         "f",
         "s",
         "120.0",
         "0",
         "+"
        ]
       ],
       "shape": {
        "columns": 16,
        "rows": 5
       }
      },
      "text/html": [
       "<div>\n",
       "<style scoped>\n",
       "    .dataframe tbody tr th:only-of-type {\n",
       "        vertical-align: middle;\n",
       "    }\n",
       "\n",
       "    .dataframe tbody tr th {\n",
       "        vertical-align: top;\n",
       "    }\n",
       "\n",
       "    .dataframe thead th {\n",
       "        text-align: right;\n",
       "    }\n",
       "</style>\n",
       "<table border=\"1\" class=\"dataframe\">\n",
       "  <thead>\n",
       "    <tr style=\"text-align: right;\">\n",
       "      <th></th>\n",
       "      <th>A1</th>\n",
       "      <th>A2</th>\n",
       "      <th>A3</th>\n",
       "      <th>A4</th>\n",
       "      <th>A5</th>\n",
       "      <th>A6</th>\n",
       "      <th>A7</th>\n",
       "      <th>A8</th>\n",
       "      <th>A9</th>\n",
       "      <th>A10</th>\n",
       "      <th>A11</th>\n",
       "      <th>A12</th>\n",
       "      <th>A13</th>\n",
       "      <th>A14</th>\n",
       "      <th>A15</th>\n",
       "      <th>A16</th>\n",
       "    </tr>\n",
       "  </thead>\n",
       "  <tbody>\n",
       "    <tr>\n",
       "      <th>0</th>\n",
       "      <td>b</td>\n",
       "      <td>30.83</td>\n",
       "      <td>0.000</td>\n",
       "      <td>u</td>\n",
       "      <td>g</td>\n",
       "      <td>w</td>\n",
       "      <td>v</td>\n",
       "      <td>1.25</td>\n",
       "      <td>t</td>\n",
       "      <td>t</td>\n",
       "      <td>1</td>\n",
       "      <td>f</td>\n",
       "      <td>g</td>\n",
       "      <td>202.0</td>\n",
       "      <td>0</td>\n",
       "      <td>+</td>\n",
       "    </tr>\n",
       "    <tr>\n",
       "      <th>1</th>\n",
       "      <td>a</td>\n",
       "      <td>58.67</td>\n",
       "      <td>4.460</td>\n",
       "      <td>u</td>\n",
       "      <td>g</td>\n",
       "      <td>q</td>\n",
       "      <td>h</td>\n",
       "      <td>3.04</td>\n",
       "      <td>t</td>\n",
       "      <td>t</td>\n",
       "      <td>6</td>\n",
       "      <td>f</td>\n",
       "      <td>g</td>\n",
       "      <td>43.0</td>\n",
       "      <td>560</td>\n",
       "      <td>+</td>\n",
       "    </tr>\n",
       "    <tr>\n",
       "      <th>2</th>\n",
       "      <td>a</td>\n",
       "      <td>24.50</td>\n",
       "      <td>0.500</td>\n",
       "      <td>u</td>\n",
       "      <td>g</td>\n",
       "      <td>q</td>\n",
       "      <td>h</td>\n",
       "      <td>1.50</td>\n",
       "      <td>t</td>\n",
       "      <td>f</td>\n",
       "      <td>0</td>\n",
       "      <td>f</td>\n",
       "      <td>g</td>\n",
       "      <td>280.0</td>\n",
       "      <td>824</td>\n",
       "      <td>+</td>\n",
       "    </tr>\n",
       "    <tr>\n",
       "      <th>3</th>\n",
       "      <td>b</td>\n",
       "      <td>27.83</td>\n",
       "      <td>1.540</td>\n",
       "      <td>u</td>\n",
       "      <td>g</td>\n",
       "      <td>w</td>\n",
       "      <td>v</td>\n",
       "      <td>3.75</td>\n",
       "      <td>t</td>\n",
       "      <td>t</td>\n",
       "      <td>5</td>\n",
       "      <td>t</td>\n",
       "      <td>g</td>\n",
       "      <td>100.0</td>\n",
       "      <td>3</td>\n",
       "      <td>+</td>\n",
       "    </tr>\n",
       "    <tr>\n",
       "      <th>4</th>\n",
       "      <td>b</td>\n",
       "      <td>20.17</td>\n",
       "      <td>5.625</td>\n",
       "      <td>u</td>\n",
       "      <td>g</td>\n",
       "      <td>w</td>\n",
       "      <td>v</td>\n",
       "      <td>1.71</td>\n",
       "      <td>t</td>\n",
       "      <td>f</td>\n",
       "      <td>0</td>\n",
       "      <td>f</td>\n",
       "      <td>s</td>\n",
       "      <td>120.0</td>\n",
       "      <td>0</td>\n",
       "      <td>+</td>\n",
       "    </tr>\n",
       "  </tbody>\n",
       "</table>\n",
       "</div>"
      ],
      "text/plain": [
       "  A1     A2     A3 A4 A5 A6 A7    A8 A9 A10  A11 A12 A13    A14  A15 A16\n",
       "0  b  30.83  0.000  u  g  w  v  1.25  t   t    1   f   g  202.0    0   +\n",
       "1  a  58.67  4.460  u  g  q  h  3.04  t   t    6   f   g   43.0  560   +\n",
       "2  a  24.50  0.500  u  g  q  h  1.50  t   f    0   f   g  280.0  824   +\n",
       "3  b  27.83  1.540  u  g  w  v  3.75  t   t    5   t   g  100.0    3   +\n",
       "4  b  20.17  5.625  u  g  w  v  1.71  t   f    0   f   s  120.0    0   +"
      ]
     },
     "execution_count": 2,
     "metadata": {},
     "output_type": "execute_result"
    }
   ],
   "source": [
    "# Load Raw Dataset\n",
    "filepath = \"/Users/drewgjerstad/repos/credit-approval-prediction/data/crx.data\"\n",
    "\n",
    "credit_data = pd.read_table(filepath_or_buffer=filepath,\n",
    "                            delimiter=\",\", na_values=[\"?\"],\n",
    "                            names=[\"A1\", \"A2\", \"A3\", \"A4\", \"A5\", \"A6\", \"A7\",\n",
    "                                   \"A8\", \"A9\", \"A10\", \"A11\", \"A12\", \"A13\",\n",
    "                                   \"A14\", \"A15\", \"A16\"])\n",
    "credit_data.head()"
   ]
  },
  {
   "cell_type": "markdown",
   "id": "31cc7f64",
   "metadata": {},
   "source": [
    "## Data Preprocessing"
   ]
  },
  {
   "cell_type": "markdown",
   "id": "e49d33a4",
   "metadata": {},
   "source": [
    "## Data Exploration"
   ]
  }
 ],
 "metadata": {
  "kernelspec": {
   "display_name": "credit-approval-env",
   "language": "python",
   "name": "python3"
  },
  "language_info": {
   "codemirror_mode": {
    "name": "ipython",
    "version": 3
   },
   "file_extension": ".py",
   "mimetype": "text/x-python",
   "name": "python",
   "nbconvert_exporter": "python",
   "pygments_lexer": "ipython3",
   "version": "3.13.5"
  }
 },
 "nbformat": 4,
 "nbformat_minor": 5
}
