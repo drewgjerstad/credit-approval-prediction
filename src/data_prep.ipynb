{
 "cells": [
  {
   "cell_type": "markdown",
   "id": "ecde6ad0",
   "metadata": {},
   "source": [
    "# Data Preparation\n",
    "The purpose of this notebook is to **preprocess** and **explore** the credit\n",
    "approval dataset. At the beginning of each section, we will summarize the steps\n",
    "taken to preprocess the dataset and then explore it."
   ]
  },
  {
   "cell_type": "code",
   "execution_count": 2,
   "id": "5c52cb5e",
   "metadata": {},
   "outputs": [],
   "source": [
    "# Load Dependencies\n",
    "import numpy as np\n",
    "import pandas as pd\n",
    "import torch\n",
    "import sklearn\n",
    "import matplotlib.pyplot as plt"
   ]
  },
  {
   "cell_type": "code",
   "execution_count": 3,
   "id": "05707ef3",
   "metadata": {},
   "outputs": [
    {
     "data": {
      "application/vnd.microsoft.datawrangler.viewer.v0+json": {
       "columns": [
        {
         "name": "index",
         "rawType": "int64",
         "type": "integer"
        },
        {
         "name": "A1",
         "rawType": "object",
         "type": "string"
        },
        {
         "name": "A2",
         "rawType": "float64",
         "type": "float"
        },
        {
         "name": "A3",
         "rawType": "float64",
         "type": "float"
        },
        {
         "name": "A4",
         "rawType": "object",
         "type": "string"
        },
        {
         "name": "A5",
         "rawType": "object",
         "type": "string"
        },
        {
         "name": "A6",
         "rawType": "object",
         "type": "string"
        },
        {
         "name": "A7",
         "rawType": "object",
         "type": "string"
        },
        {
         "name": "A8",
         "rawType": "float64",
         "type": "float"
        },
        {
         "name": "A9",
         "rawType": "object",
         "type": "string"
        },
        {
         "name": "A10",
         "rawType": "object",
         "type": "string"
        },
        {
         "name": "A11",
         "rawType": "int64",
         "type": "integer"
        },
        {
         "name": "A12",
         "rawType": "object",
         "type": "string"
        },
        {
         "name": "A13",
         "rawType": "object",
         "type": "string"
        },
        {
         "name": "A14",
         "rawType": "float64",
         "type": "float"
        },
        {
         "name": "A15",
         "rawType": "int64",
         "type": "integer"
        },
        {
         "name": "A16",
         "rawType": "object",
         "type": "string"
        }
       ],
       "ref": "2d5a2e73-3c1f-43f3-b046-cd8945c5d6be",
       "rows": [
        [
         "0",
         "b",
         "30.83",
         "0.0",
         "u",
         "g",
         "w",
         "v",
         "1.25",
         "t",
         "t",
         "1",
         "f",
         "g",
         "202.0",
         "0",
         "+"
        ],
        [
         "1",
         "a",
         "58.67",
         "4.46",
         "u",
         "g",
         "q",
         "h",
         "3.04",
         "t",
         "t",
         "6",
         "f",
         "g",
         "43.0",
         "560",
         "+"
        ],
        [
         "2",
         "a",
         "24.5",
         "0.5",
         "u",
         "g",
         "q",
         "h",
         "1.5",
         "t",
         "f",
         "0",
         "f",
         "g",
         "280.0",
         "824",
         "+"
        ],
        [
         "3",
         "b",
         "27.83",
         "1.54",
         "u",
         "g",
         "w",
         "v",
         "3.75",
         "t",
         "t",
         "5",
         "t",
         "g",
         "100.0",
         "3",
         "+"
        ],
        [
         "4",
         "b",
         "20.17",
         "5.625",
         "u",
         "g",
         "w",
         "v",
         "1.71",
         "t",
         "f",
         "0",
         "f",
         "s",
         "120.0",
         "0",
         "+"
        ]
       ],
       "shape": {
        "columns": 16,
        "rows": 5
       }
      },
      "text/html": [
       "<div>\n",
       "<style scoped>\n",
       "    .dataframe tbody tr th:only-of-type {\n",
       "        vertical-align: middle;\n",
       "    }\n",
       "\n",
       "    .dataframe tbody tr th {\n",
       "        vertical-align: top;\n",
       "    }\n",
       "\n",
       "    .dataframe thead th {\n",
       "        text-align: right;\n",
       "    }\n",
       "</style>\n",
       "<table border=\"1\" class=\"dataframe\">\n",
       "  <thead>\n",
       "    <tr style=\"text-align: right;\">\n",
       "      <th></th>\n",
       "      <th>A1</th>\n",
       "      <th>A2</th>\n",
       "      <th>A3</th>\n",
       "      <th>A4</th>\n",
       "      <th>A5</th>\n",
       "      <th>A6</th>\n",
       "      <th>A7</th>\n",
       "      <th>A8</th>\n",
       "      <th>A9</th>\n",
       "      <th>A10</th>\n",
       "      <th>A11</th>\n",
       "      <th>A12</th>\n",
       "      <th>A13</th>\n",
       "      <th>A14</th>\n",
       "      <th>A15</th>\n",
       "      <th>A16</th>\n",
       "    </tr>\n",
       "  </thead>\n",
       "  <tbody>\n",
       "    <tr>\n",
       "      <th>0</th>\n",
       "      <td>b</td>\n",
       "      <td>30.83</td>\n",
       "      <td>0.000</td>\n",
       "      <td>u</td>\n",
       "      <td>g</td>\n",
       "      <td>w</td>\n",
       "      <td>v</td>\n",
       "      <td>1.25</td>\n",
       "      <td>t</td>\n",
       "      <td>t</td>\n",
       "      <td>1</td>\n",
       "      <td>f</td>\n",
       "      <td>g</td>\n",
       "      <td>202.0</td>\n",
       "      <td>0</td>\n",
       "      <td>+</td>\n",
       "    </tr>\n",
       "    <tr>\n",
       "      <th>1</th>\n",
       "      <td>a</td>\n",
       "      <td>58.67</td>\n",
       "      <td>4.460</td>\n",
       "      <td>u</td>\n",
       "      <td>g</td>\n",
       "      <td>q</td>\n",
       "      <td>h</td>\n",
       "      <td>3.04</td>\n",
       "      <td>t</td>\n",
       "      <td>t</td>\n",
       "      <td>6</td>\n",
       "      <td>f</td>\n",
       "      <td>g</td>\n",
       "      <td>43.0</td>\n",
       "      <td>560</td>\n",
       "      <td>+</td>\n",
       "    </tr>\n",
       "    <tr>\n",
       "      <th>2</th>\n",
       "      <td>a</td>\n",
       "      <td>24.50</td>\n",
       "      <td>0.500</td>\n",
       "      <td>u</td>\n",
       "      <td>g</td>\n",
       "      <td>q</td>\n",
       "      <td>h</td>\n",
       "      <td>1.50</td>\n",
       "      <td>t</td>\n",
       "      <td>f</td>\n",
       "      <td>0</td>\n",
       "      <td>f</td>\n",
       "      <td>g</td>\n",
       "      <td>280.0</td>\n",
       "      <td>824</td>\n",
       "      <td>+</td>\n",
       "    </tr>\n",
       "    <tr>\n",
       "      <th>3</th>\n",
       "      <td>b</td>\n",
       "      <td>27.83</td>\n",
       "      <td>1.540</td>\n",
       "      <td>u</td>\n",
       "      <td>g</td>\n",
       "      <td>w</td>\n",
       "      <td>v</td>\n",
       "      <td>3.75</td>\n",
       "      <td>t</td>\n",
       "      <td>t</td>\n",
       "      <td>5</td>\n",
       "      <td>t</td>\n",
       "      <td>g</td>\n",
       "      <td>100.0</td>\n",
       "      <td>3</td>\n",
       "      <td>+</td>\n",
       "    </tr>\n",
       "    <tr>\n",
       "      <th>4</th>\n",
       "      <td>b</td>\n",
       "      <td>20.17</td>\n",
       "      <td>5.625</td>\n",
       "      <td>u</td>\n",
       "      <td>g</td>\n",
       "      <td>w</td>\n",
       "      <td>v</td>\n",
       "      <td>1.71</td>\n",
       "      <td>t</td>\n",
       "      <td>f</td>\n",
       "      <td>0</td>\n",
       "      <td>f</td>\n",
       "      <td>s</td>\n",
       "      <td>120.0</td>\n",
       "      <td>0</td>\n",
       "      <td>+</td>\n",
       "    </tr>\n",
       "  </tbody>\n",
       "</table>\n",
       "</div>"
      ],
      "text/plain": [
       "  A1     A2     A3 A4 A5 A6 A7    A8 A9 A10  A11 A12 A13    A14  A15 A16\n",
       "0  b  30.83  0.000  u  g  w  v  1.25  t   t    1   f   g  202.0    0   +\n",
       "1  a  58.67  4.460  u  g  q  h  3.04  t   t    6   f   g   43.0  560   +\n",
       "2  a  24.50  0.500  u  g  q  h  1.50  t   f    0   f   g  280.0  824   +\n",
       "3  b  27.83  1.540  u  g  w  v  3.75  t   t    5   t   g  100.0    3   +\n",
       "4  b  20.17  5.625  u  g  w  v  1.71  t   f    0   f   s  120.0    0   +"
      ]
     },
     "execution_count": 3,
     "metadata": {},
     "output_type": "execute_result"
    }
   ],
   "source": [
    "# Load Raw Dataset\n",
    "filepath = \"/Users/drewgjerstad/repos/credit-approval-prediction/data/crx.data\"\n",
    "\n",
    "credit_data = pd.read_table(filepath_or_buffer=filepath,\n",
    "                            delimiter=\",\", na_values=[\"?\"],\n",
    "                            names=[\"A1\", \"A2\", \"A3\", \"A4\", \"A5\", \"A6\", \"A7\",\n",
    "                                   \"A8\", \"A9\", \"A10\", \"A11\", \"A12\", \"A13\",\n",
    "                                   \"A14\", \"A15\", \"A16\"])\n",
    "credit_data.head()"
   ]
  },
  {
   "cell_type": "markdown",
   "id": "31cc7f64",
   "metadata": {},
   "source": [
    "## Data Preprocessing\n",
    "In this section, we will focus on preprocessing the raw dataset we loaded above.\n",
    "Once we have processed the raw dataset, we will move onto the next section of\n",
    "exploring the (training) data. The preprocessing steps taken in this section are\n",
    "summarized below.\n",
    "\n",
    "1. Split the dataset into **features** and **response**.\n",
    "2. Drop any rows with missing response values (if necessary).\n",
    "3. Identify features with missing data.\n",
    "4. Split the dataset into **training** and **test** sets.\n",
    "5. Impute missing values for columns with missing data.\n",
    "6. Encode categorical features.\n",
    "\n",
    "Once we have performed each of these steps, we will design a data preprocessing\n",
    "pipeline to easily handle these steps for hypothetical future versions of this\n",
    "dataset. It will be found in a `preprocessing.py` file in the `src` directory\n",
    "and is used in other parts of this project."
   ]
  },
  {
   "cell_type": "markdown",
   "id": "a9968404",
   "metadata": {},
   "source": [
    "### Split Dataset Into Features/Response\n",
    "First, we split the dataset into a feature matrix and a response vector. As\n",
    "mentioned in the `README`, the response of this dataset is whether or not the\n",
    "credit card application was approved. This information is stored in `A16`."
   ]
  },
  {
   "cell_type": "code",
   "execution_count": 4,
   "id": "e2e46a7d",
   "metadata": {},
   "outputs": [],
   "source": [
    "# Split Features/Response\n",
    "credit_features = credit_data.drop(labels=[\"A16\"], axis=1, inplace=False)\n",
    "credit_response = credit_data.loc[:, \"A16\"]"
   ]
  },
  {
   "cell_type": "code",
   "execution_count": 5,
   "id": "bdfc8254",
   "metadata": {},
   "outputs": [
    {
     "name": "stdout",
     "output_type": "stream",
     "text": [
      "Features: ['A1', 'A2', 'A3', 'A4', 'A5', 'A6', 'A7', 'A8', 'A9', 'A10', 'A11', 'A12', 'A13', 'A14', 'A15']\n",
      "Response: A16\n"
     ]
    }
   ],
   "source": [
    "# Verify Split\n",
    "print(f\"Features: {list(credit_features.columns)}\")\n",
    "print(f\"Response: {credit_response.name}\")"
   ]
  },
  {
   "cell_type": "markdown",
   "id": "83445ad9",
   "metadata": {},
   "source": [
    "### Drop Rows with Missing Response Values"
   ]
  },
  {
   "cell_type": "markdown",
   "id": "0fbcf167",
   "metadata": {},
   "source": [
    "Next, since one of the key goals of this project is to build a predictive model\n",
    "for predicting the outcome of credit card applications, including observations\n",
    "with a missing response value is not ideal. Therefore, before we continue with\n",
    "any additional preprocessing we will remove any observations without a\n",
    "corresponding response."
   ]
  },
  {
   "cell_type": "code",
   "execution_count": 6,
   "id": "5cabb710",
   "metadata": {},
   "outputs": [
    {
     "name": "stdout",
     "output_type": "stream",
     "text": [
      "Number of Missing Response Values: 0\n"
     ]
    }
   ],
   "source": [
    "# Identify Rows with Missing Response\n",
    "missing_response_idx = np.argwhere(credit_response.isna() == True)\n",
    "print(f\"Number of Missing Response Values: {missing_response_idx.shape[0]}\")"
   ]
  },
  {
   "cell_type": "code",
   "execution_count": 7,
   "id": "e38c6c87",
   "metadata": {},
   "outputs": [
    {
     "name": "stdout",
     "output_type": "stream",
     "text": [
      "No Missing Response Values. No Rows Dropped.\n",
      "Feature Matrix Shape: (690, 15)\n",
      "Response Vector Shape: (690,)\n"
     ]
    }
   ],
   "source": [
    "# Remove Rows (if necessary)\n",
    "if missing_response_idx.shape[0] > 0:\n",
    "    credit_features.drop(labels=missing_response_idx.tolist(), axis=0)\n",
    "    credit_response.drop(labels=missing_response_idx.tolist(), axis=0)\n",
    "    print(f\"Number of Rows Dropped: {missing_response_idx.shape[0]}\")\n",
    "    print(f\"Feature Matrix Shape Post-Removal: {credit_features.shape}\")\n",
    "    print(f\"Response Vector Shape Post-Removal: {credit_response.shape}\")\n",
    "else:\n",
    "    print(\"No Missing Response Values. No Rows Dropped.\")\n",
    "    print(f\"Feature Matrix Shape: {credit_features.shape}\")\n",
    "    print(f\"Response Vector Shape: {credit_response.shape}\")"
   ]
  },
  {
   "cell_type": "markdown",
   "id": "4c10437c",
   "metadata": {},
   "source": [
    "### Identify Features with Missing Data\n",
    "Now that we have removed rows with missing response values, we can focus on\n",
    "identifying features with missing data. From a business standpoint, we could\n",
    "simply disregard any observations (\"applications\") with missing data. However,\n",
    "since we are focused on developing a predictive model and its corresponding\n",
    "pipeline, we will develop methods to impute missing values in a logical manner."
   ]
  },
  {
   "cell_type": "code",
   "execution_count": 8,
   "id": "47ffd1c1",
   "metadata": {},
   "outputs": [
    {
     "name": "stdout",
     "output_type": "stream",
     "text": [
      "Features with Missing Data: ['A1', 'A2', 'A4', 'A5', 'A6', 'A7', 'A14']\n"
     ]
    }
   ],
   "source": [
    "# Identify Features with Missing Data\n",
    "missing_features = []\n",
    "for col in credit_features.columns:\n",
    "    if credit_features.loc[:, col].isna().any():\n",
    "        missing_features.append(col)\n",
    "print(f\"Features with Missing Data: {missing_features}\")"
   ]
  },
  {
   "cell_type": "markdown",
   "id": "14227ebd",
   "metadata": {},
   "source": [
    "### Split Dataset Into Training/Test Sets\n",
    "If we were to impute missing values prior to splitting the dataset into training\n",
    "and test sets, trends in the future set could end up \"leaking\" into the training\n",
    "set. Therefore, we will split the dataset into training and test sets before\n",
    "continuing.\n",
    "\n",
    "To ensure that the percentage of observations in the response is maintained in\n",
    "the training and test sets, we will use a stratified split."
   ]
  },
  {
   "cell_type": "code",
   "execution_count": 9,
   "id": "d8eaa044",
   "metadata": {},
   "outputs": [],
   "source": [
    "TEST_SIZE = 0.25\n",
    "SEED = 42"
   ]
  },
  {
   "cell_type": "code",
   "execution_count": null,
   "id": "36b14fca",
   "metadata": {},
   "outputs": [
    {
     "name": "stdout",
     "output_type": "stream",
     "text": [
      "Training features shape: (517, 15)\n",
      "Testing features shape: (173, 15)\n",
      "Training response shape: (517,)\n",
      "Testing response shape: (173,)\n"
     ]
    }
   ],
   "source": [
    "# Split Dataset Into Training/Test Sets\n",
    "from sklearn.model_selection import train_test_split\n",
    "\n",
    "X_train, X_test, y_train, y_test = train_test_split(\n",
    "    credit_features, credit_response,\n",
    "    test_size=TEST_SIZE,\n",
    "    random_state=SEED,\n",
    "    stratify=credit_response\n",
    ")\n",
    "\n",
    "print(f\"Training features shape: {X_train.shape}\")\n",
    "print(f\"Testing features shape: {X_test.shape}\")\n",
    "print(f\"Training response shape: {y_train.shape}\")\n",
    "print(f\"Testing response shape: {y_test.shape}\")"
   ]
  },
  {
   "cell_type": "markdown",
   "id": "61bf9703",
   "metadata": {},
   "source": [
    "### Impute Missing Values"
   ]
  },
  {
   "cell_type": "code",
   "execution_count": null,
   "id": "c8679908",
   "metadata": {},
   "outputs": [],
   "source": []
  },
  {
   "cell_type": "code",
   "execution_count": null,
   "id": "3f4483fc",
   "metadata": {},
   "outputs": [],
   "source": []
  },
  {
   "cell_type": "markdown",
   "id": "a09e2a79",
   "metadata": {},
   "source": [
    "### Feature Engineering"
   ]
  },
  {
   "cell_type": "markdown",
   "id": "27f7f15c",
   "metadata": {},
   "source": [
    "### Encode Categorical Features"
   ]
  },
  {
   "cell_type": "markdown",
   "id": "d250d63d",
   "metadata": {},
   "source": [
    "### Standardize Continuous Features"
   ]
  },
  {
   "cell_type": "markdown",
   "id": "6069b279",
   "metadata": {},
   "source": [
    "### Export Training and Test Sets"
   ]
  },
  {
   "cell_type": "markdown",
   "id": "e49d33a4",
   "metadata": {},
   "source": [
    "## Data Exploration"
   ]
  }
 ],
 "metadata": {
  "kernelspec": {
   "display_name": "credit-approval-env",
   "language": "python",
   "name": "python3"
  },
  "language_info": {
   "codemirror_mode": {
    "name": "ipython",
    "version": 3
   },
   "file_extension": ".py",
   "mimetype": "text/x-python",
   "name": "python",
   "nbconvert_exporter": "python",
   "pygments_lexer": "ipython3",
   "version": "3.13.5"
  }
 },
 "nbformat": 4,
 "nbformat_minor": 5
}
